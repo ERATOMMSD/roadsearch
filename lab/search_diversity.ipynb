{
 "cells": [
  {
   "cell_type": "code",
   "execution_count": 1,
   "metadata": {},
   "outputs": [],
   "source": [
    "import pandas as pd\n",
    "import seaborn as sns\n",
    "import matplotlib.pyplot as plt \n",
    "import numpy as np "
   ]
  },
  {
   "cell_type": "code",
   "execution_count": 2,
   "metadata": {},
   "outputs": [],
   "source": [
    "from src.data_utils import load_similarities"
   ]
  },
  {
   "cell_type": "code",
   "execution_count": 3,
   "metadata": {},
   "outputs": [],
   "source": [
    "similarity, similarity_failures = load_similarities()"
   ]
  },
  {
   "cell_type": "markdown",
   "metadata": {},
   "source": [
    "# Diversity"
   ]
  },
  {
   "cell_type": "markdown",
   "metadata": {},
   "source": [
    "### Diversity of valid tests"
   ]
  },
  {
   "cell_type": "code",
   "execution_count": 4,
   "metadata": {},
   "outputs": [],
   "source": [
    "from src.plots import plot_similarity"
   ]
  },
  {
   "cell_type": "code",
   "execution_count": 5,
   "metadata": {},
   "outputs": [
    {
     "data": {
      "image/png": "[encoded data removed]",
      "text/plain": [
       "<Figure size 576x144 with 1 Axes>"
      ]
     },
     "metadata": {
      "needs_background": "light"
     },
     "output_type": "display_data"
    }
   ],
   "source": [
    "plot_similarity(similarity, metric='procrustes_frechet_norm', xlim=[0.0, 0.6])\n",
    "plt.savefig('./figures/similarity.pdf') "
   ]
  },
  {
   "cell_type": "markdown",
   "metadata": {},
   "source": [
    "### Diversity of tests that produced failures"
   ]
  },
  {
   "cell_type": "code",
   "execution_count": 6,
   "metadata": {},
   "outputs": [
    {
     "data": {
      "image/png": "[encoded data removed]",
      "text/plain": [
       "<Figure size 576x144 with 1 Axes>"
      ]
     },
     "metadata": {
      "needs_background": "light"
     },
     "output_type": "display_data"
    }
   ],
   "source": [
    "plot_similarity(similarity_failures, metric='procrustes_frechet_norm', xlim=[0.0, 0.6])\n",
    "plt.savefig('./figures/similarity_failures.pdf') "
   ]
  },
  {
   "cell_type": "markdown",
   "metadata": {},
   "source": [
    "## Statistical Test"
   ]
  },
  {
   "cell_type": "markdown",
   "metadata": {},
   "source": [
    "### Valid"
   ]
  },
  {
   "cell_type": "code",
   "execution_count": 7,
   "metadata": {},
   "outputs": [],
   "source": [
    "metric = 'procrustes_frechet_norm'\n",
    "subject = {}\n",
    "for rep in similarity.representation.unique():\n",
    "    subject[rep] = similarity[(similarity.method==metric) & (similarity.representation==rep)]['value']"
   ]
  },
  {
   "cell_type": "code",
   "execution_count": 8,
   "metadata": {},
   "outputs": [],
   "source": [
    "representations = subject.keys()"
   ]
  },
  {
   "cell_type": "markdown",
   "metadata": {},
   "source": [
    "#### Shapiro"
   ]
  },
  {
   "cell_type": "code",
   "execution_count": 9,
   "metadata": {},
   "outputs": [
    {
     "name": "stdout",
     "output_type": "stream",
     "text": [
      "bezier: 0.00021865109738428146 \n",
      "cartesian: 5.284824874252081e-05 \n",
      "kappa: 0.9398635625839233 (Normal)\n",
      "kappa+step: 0.1758185774087906 (Normal)\n",
      "theta: 0.07638411223888397 (Normal)\n",
      "theta+step: 0.6125253438949585 (Normal)\n"
     ]
    }
   ],
   "source": [
    "from scipy.stats import shapiro\n",
    "# null hypothesis: is it equal to normal distribution\n",
    "# alternative: is not... \n",
    "\n",
    "ci = 0.05 # less than ci --> reject null hypothesis \n",
    "\n",
    "for rep in representations:\n",
    "    shapiro_rep = shapiro(subject[rep])\n",
    "    label = '' if shapiro_rep.pvalue < ci else '(Normal)'\n",
    "    print(f'{rep}: {shapiro_rep.pvalue} {label}')"
   ]
  },
  {
   "cell_type": "markdown",
   "metadata": {},
   "source": [
    "#### U-Test with A12"
   ]
  },
  {
   "cell_type": "code",
   "execution_count": 10,
   "metadata": {},
   "outputs": [],
   "source": [
    "from src.stats_tests import u_test_by_representations, u_test_a12_by_representation, pretty_latex"
   ]
  },
  {
   "cell_type": "code",
   "execution_count": 11,
   "metadata": {},
   "outputs": [
    {
     "data": {
      "text/html": [
       "<div>\n",
       "<style scoped>\n",
       "    .dataframe tbody tr th:only-of-type {\n",
       "        vertical-align: middle;\n",
       "    }\n",
       "\n",
       "    .dataframe tbody tr th {\n",
       "        vertical-align: top;\n",
       "    }\n",
       "\n",
       "    .dataframe thead th {\n",
       "        text-align: right;\n",
       "    }\n",
       "</style>\n",
       "<table border=\"1\" class=\"dataframe\">\n",
       "  <thead>\n",
       "    <tr style=\"text-align: right;\">\n",
       "      <th></th>\n",
       "      <th>bezier</th>\n",
       "      <th>cartesian</th>\n",
       "      <th>kappa</th>\n",
       "      <th>kappa+step</th>\n",
       "      <th>theta</th>\n",
       "      <th>theta+step</th>\n",
       "    </tr>\n",
       "    <tr>\n",
       "      <th>subject</th>\n",
       "      <th></th>\n",
       "      <th></th>\n",
       "      <th></th>\n",
       "      <th></th>\n",
       "      <th></th>\n",
       "      <th></th>\n",
       "    </tr>\n",
       "  </thead>\n",
       "  <tbody>\n",
       "    <tr>\n",
       "      <th>bezier</th>\n",
       "      <td>NaN</td>\n",
       "      <td>0.310202</td>\n",
       "      <td>9.283669e-10</td>\n",
       "      <td>5.511700e-09</td>\n",
       "      <td>3.101327e-04</td>\n",
       "      <td>8.739567e-06</td>\n",
       "    </tr>\n",
       "    <tr>\n",
       "      <th>cartesian</th>\n",
       "      <td>NaN</td>\n",
       "      <td>NaN</td>\n",
       "      <td>2.786327e-10</td>\n",
       "      <td>9.283669e-10</td>\n",
       "      <td>4.073242e-05</td>\n",
       "      <td>1.001146e-06</td>\n",
       "    </tr>\n",
       "    <tr>\n",
       "      <th>kappa</th>\n",
       "      <td>NaN</td>\n",
       "      <td>NaN</td>\n",
       "      <td>NaN</td>\n",
       "      <td>3.622280e-02</td>\n",
       "      <td>8.489763e-09</td>\n",
       "      <td>1.982383e-08</td>\n",
       "    </tr>\n",
       "    <tr>\n",
       "      <th>kappa+step</th>\n",
       "      <td>NaN</td>\n",
       "      <td>NaN</td>\n",
       "      <td>NaN</td>\n",
       "      <td>NaN</td>\n",
       "      <td>1.339209e-06</td>\n",
       "      <td>6.238527e-05</td>\n",
       "    </tr>\n",
       "    <tr>\n",
       "      <th>theta</th>\n",
       "      <td>NaN</td>\n",
       "      <td>NaN</td>\n",
       "      <td>NaN</td>\n",
       "      <td>NaN</td>\n",
       "      <td>NaN</td>\n",
       "      <td>5.116313e-02</td>\n",
       "    </tr>\n",
       "    <tr>\n",
       "      <th>theta+step</th>\n",
       "      <td>NaN</td>\n",
       "      <td>NaN</td>\n",
       "      <td>NaN</td>\n",
       "      <td>NaN</td>\n",
       "      <td>NaN</td>\n",
       "      <td>NaN</td>\n",
       "    </tr>\n",
       "  </tbody>\n",
       "</table>\n",
       "</div>"
      ],
      "text/plain": [
       "            bezier  cartesian         kappa    kappa+step         theta  \\\n",
       "subject                                                                   \n",
       "bezier         NaN   0.310202  9.283669e-10  5.511700e-09  3.101327e-04   \n",
       "cartesian      NaN        NaN  2.786327e-10  9.283669e-10  4.073242e-05   \n",
       "kappa          NaN        NaN           NaN  3.622280e-02  8.489763e-09   \n",
       "kappa+step     NaN        NaN           NaN           NaN  1.339209e-06   \n",
       "theta          NaN        NaN           NaN           NaN           NaN   \n",
       "theta+step     NaN        NaN           NaN           NaN           NaN   \n",
       "\n",
       "              theta+step  \n",
       "subject                   \n",
       "bezier      8.739567e-06  \n",
       "cartesian   1.001146e-06  \n",
       "kappa       1.982383e-08  \n",
       "kappa+step  6.238527e-05  \n",
       "theta       5.116313e-02  \n",
       "theta+step           NaN  "
      ]
     },
     "execution_count": 11,
     "metadata": {},
     "output_type": "execute_result"
    }
   ],
   "source": [
    "test = u_test_by_representations(subject, representations)\n",
    "test"
   ]
  },
  {
   "cell_type": "code",
   "execution_count": 12,
   "metadata": {},
   "outputs": [
    {
     "data": {
      "text/html": [
       "<div>\n",
       "<style scoped>\n",
       "    .dataframe tbody tr th:only-of-type {\n",
       "        vertical-align: middle;\n",
       "    }\n",
       "\n",
       "    .dataframe tbody tr th {\n",
       "        vertical-align: top;\n",
       "    }\n",
       "\n",
       "    .dataframe thead th {\n",
       "        text-align: right;\n",
       "    }\n",
       "</style>\n",
       "<table border=\"1\" class=\"dataframe\">\n",
       "  <thead>\n",
       "    <tr style=\"text-align: right;\">\n",
       "      <th></th>\n",
       "      <th>bezier</th>\n",
       "      <th>cartesian</th>\n",
       "      <th>kappa</th>\n",
       "      <th>kappa+step</th>\n",
       "      <th>theta</th>\n",
       "      <th>theta+step</th>\n",
       "    </tr>\n",
       "    <tr>\n",
       "      <th>subject</th>\n",
       "      <th></th>\n",
       "      <th></th>\n",
       "      <th></th>\n",
       "      <th></th>\n",
       "      <th></th>\n",
       "      <th></th>\n",
       "    </tr>\n",
       "  </thead>\n",
       "  <tbody>\n",
       "    <tr>\n",
       "      <th>bezier</th>\n",
       "      <td>-</td>\n",
       "      <td>\\same</td>\n",
       "      <td>\\worse (0.0478)</td>\n",
       "      <td>\\worse (0.07)</td>\n",
       "      <td>\\worse (0.242)</td>\n",
       "      <td>\\worse (0.177)</td>\n",
       "    </tr>\n",
       "    <tr>\n",
       "      <th>cartesian</th>\n",
       "      <td>\\same</td>\n",
       "      <td>-</td>\n",
       "      <td>\\worse (0.0333)</td>\n",
       "      <td>\\worse (0.0478)</td>\n",
       "      <td>\\worse (0.203)</td>\n",
       "      <td>\\worse (0.142)</td>\n",
       "    </tr>\n",
       "    <tr>\n",
       "      <th>kappa</th>\n",
       "      <td>\\better (0.952)</td>\n",
       "      <td>\\better (0.967)</td>\n",
       "      <td>-</td>\n",
       "      <td>\\better (0.636)</td>\n",
       "      <td>\\better (0.924)</td>\n",
       "      <td>\\better (0.913)</td>\n",
       "    </tr>\n",
       "    <tr>\n",
       "      <th>kappa+step</th>\n",
       "      <td>\\better (0.93)</td>\n",
       "      <td>\\better (0.952)</td>\n",
       "      <td>\\worse (0.364)</td>\n",
       "      <td>-</td>\n",
       "      <td>\\better (0.853)</td>\n",
       "      <td>\\better (0.789)</td>\n",
       "    </tr>\n",
       "    <tr>\n",
       "      <th>theta</th>\n",
       "      <td>\\better (0.758)</td>\n",
       "      <td>\\better (0.797)</td>\n",
       "      <td>\\worse (0.0756)</td>\n",
       "      <td>\\worse (0.147)</td>\n",
       "      <td>-</td>\n",
       "      <td>\\same</td>\n",
       "    </tr>\n",
       "    <tr>\n",
       "      <th>theta+step</th>\n",
       "      <td>\\better (0.823)</td>\n",
       "      <td>\\better (0.858)</td>\n",
       "      <td>\\worse (0.0867)</td>\n",
       "      <td>\\worse (0.211)</td>\n",
       "      <td>\\same</td>\n",
       "      <td>-</td>\n",
       "    </tr>\n",
       "  </tbody>\n",
       "</table>\n",
       "</div>"
      ],
      "text/plain": [
       "                     bezier        cartesian            kappa  \\\n",
       "subject                                                         \n",
       "bezier                    -            \\same  \\worse (0.0478)   \n",
       "cartesian             \\same                -  \\worse (0.0333)   \n",
       "kappa       \\better (0.952)  \\better (0.967)                -   \n",
       "kappa+step   \\better (0.93)  \\better (0.952)   \\worse (0.364)   \n",
       "theta       \\better (0.758)  \\better (0.797)  \\worse (0.0756)   \n",
       "theta+step  \\better (0.823)  \\better (0.858)  \\worse (0.0867)   \n",
       "\n",
       "                 kappa+step            theta       theta+step  \n",
       "subject                                                        \n",
       "bezier        \\worse (0.07)   \\worse (0.242)   \\worse (0.177)  \n",
       "cartesian   \\worse (0.0478)   \\worse (0.203)   \\worse (0.142)  \n",
       "kappa       \\better (0.636)  \\better (0.924)  \\better (0.913)  \n",
       "kappa+step                -  \\better (0.853)  \\better (0.789)  \n",
       "theta        \\worse (0.147)                -            \\same  \n",
       "theta+step   \\worse (0.211)            \\same                -  "
      ]
     },
     "execution_count": 12,
     "metadata": {},
     "output_type": "execute_result"
    }
   ],
   "source": [
    "test = u_test_a12_by_representation(subject, representations)\n",
    "test"
   ]
  },
  {
   "cell_type": "code",
   "execution_count": 13,
   "metadata": {},
   "outputs": [
    {
     "name": "stdout",
     "output_type": "stream",
     "text": [
      "\\begin{tabular}{ccccccc}\n",
      "\\toprule\n",
      "{} &           bezier &        cartesian &            kappa &       kappa+step &            theta &       theta+step \\\\\n",
      "\\midrule\n",
      "bezier     &                - &            \\same &  \\worse (0.0478) &    \\worse (0.07) &   \\worse (0.242) &   \\worse (0.177) \\\\\n",
      "cartesian  &            \\same &                - &  \\worse (0.0333) &  \\worse (0.0478) &   \\worse (0.203) &   \\worse (0.142) \\\\\n",
      "kappa      &  \\better (0.952) &  \\better (0.967) &                - &  \\better (0.636) &  \\better (0.924) &  \\better (0.913) \\\\\n",
      "kappa+step &   \\better (0.93) &  \\better (0.952) &   \\worse (0.364) &                - &  \\better (0.853) &  \\better (0.789) \\\\\n",
      "theta      &  \\better (0.758) &  \\better (0.797) &  \\worse (0.0756) &   \\worse (0.147) &                - &            \\same \\\\\n",
      "theta+step &  \\better (0.823) &  \\better (0.858) &  \\worse (0.0867) &   \\worse (0.211) &            \\same &                - \\\\\n",
      "\\bottomrule\n",
      "\\end{tabular}\n",
      "\n"
     ]
    }
   ],
   "source": [
    "pretty_latex(test)"
   ]
  },
  {
   "cell_type": "markdown",
   "metadata": {},
   "source": [
    "### Failures "
   ]
  },
  {
   "cell_type": "code",
   "execution_count": 14,
   "metadata": {},
   "outputs": [],
   "source": [
    "metric = 'procrustes_frechet_norm'\n",
    "subject = {}\n",
    "for rep in similarity_failures.representation.unique():\n",
    "    subject[rep] = similarity_failures[(similarity_failures.method==metric) & (similarity_failures.representation==rep)]['value']"
   ]
  },
  {
   "cell_type": "code",
   "execution_count": 15,
   "metadata": {},
   "outputs": [],
   "source": [
    "representations = subject.keys()"
   ]
  },
  {
   "cell_type": "code",
   "execution_count": 16,
   "metadata": {},
   "outputs": [
    {
     "name": "stdout",
     "output_type": "stream",
     "text": [
      "Number of experiments in which no failure was triggered:\n",
      "bezier 8\n",
      "cartesian 15\n",
      "kappa 0\n",
      "kappa+step 0\n",
      "theta 4\n",
      "theta+step 1\n"
     ]
    }
   ],
   "source": [
    "print('Number of experiments in which no failure was triggered:')\n",
    "for k,v in subject.items():\n",
    "    print(k, 30 - len(v.dropna()))"
   ]
  },
  {
   "cell_type": "markdown",
   "metadata": {},
   "source": [
    "#### Shapiro"
   ]
  },
  {
   "cell_type": "code",
   "execution_count": 17,
   "metadata": {},
   "outputs": [
    {
     "name": "stdout",
     "output_type": "stream",
     "text": [
      "bezier: 0.004750432446599007 \n",
      "cartesian: 0.027674688026309013 \n",
      "kappa: 0.6887685060501099 (Normal)\n",
      "kappa+step: 0.22773434221744537 (Normal)\n",
      "theta: 0.022258540615439415 \n",
      "theta+step: 0.40584543347358704 (Normal)\n"
     ]
    }
   ],
   "source": [
    "from scipy.stats import shapiro\n",
    "# null hypothesis: is it equal to normal distribution\n",
    "# alternative: is not... \n",
    "\n",
    "ci = 0.05 # less than ci --> reject null hypothesis \n",
    "\n",
    "for rep in representations:\n",
    "    shapiro_rep = shapiro(subject[rep].dropna())\n",
    "    label = '' if shapiro_rep.pvalue < ci else '(Normal)'\n",
    "    print(f'{rep}: {shapiro_rep.pvalue} {label}')"
   ]
  },
  {
   "cell_type": "markdown",
   "metadata": {},
   "source": [
    "#### U-Test with A12"
   ]
  },
  {
   "cell_type": "code",
   "execution_count": 18,
   "metadata": {},
   "outputs": [],
   "source": [
    "from src.stats_tests import u_test_by_representations, u_test_a12_by_representation, pretty_latex"
   ]
  },
  {
   "cell_type": "code",
   "execution_count": 19,
   "metadata": {},
   "outputs": [
    {
     "data": {
      "text/html": [
       "<div>\n",
       "<style scoped>\n",
       "    .dataframe tbody tr th:only-of-type {\n",
       "        vertical-align: middle;\n",
       "    }\n",
       "\n",
       "    .dataframe tbody tr th {\n",
       "        vertical-align: top;\n",
       "    }\n",
       "\n",
       "    .dataframe thead th {\n",
       "        text-align: right;\n",
       "    }\n",
       "</style>\n",
       "<table border=\"1\" class=\"dataframe\">\n",
       "  <thead>\n",
       "    <tr style=\"text-align: right;\">\n",
       "      <th></th>\n",
       "      <th>bezier</th>\n",
       "      <th>cartesian</th>\n",
       "      <th>kappa</th>\n",
       "      <th>kappa+step</th>\n",
       "      <th>theta</th>\n",
       "      <th>theta+step</th>\n",
       "    </tr>\n",
       "    <tr>\n",
       "      <th>subject</th>\n",
       "      <th></th>\n",
       "      <th></th>\n",
       "      <th></th>\n",
       "      <th></th>\n",
       "      <th></th>\n",
       "      <th></th>\n",
       "    </tr>\n",
       "  </thead>\n",
       "  <tbody>\n",
       "    <tr>\n",
       "      <th>bezier</th>\n",
       "      <td>NaN</td>\n",
       "      <td>0.372662</td>\n",
       "      <td>0.000011</td>\n",
       "      <td>0.000002</td>\n",
       "      <td>0.001948</td>\n",
       "      <td>0.014023</td>\n",
       "    </tr>\n",
       "    <tr>\n",
       "      <th>cartesian</th>\n",
       "      <td>NaN</td>\n",
       "      <td>NaN</td>\n",
       "      <td>0.005934</td>\n",
       "      <td>0.003378</td>\n",
       "      <td>0.114205</td>\n",
       "      <td>0.199945</td>\n",
       "    </tr>\n",
       "    <tr>\n",
       "      <th>kappa</th>\n",
       "      <td>NaN</td>\n",
       "      <td>NaN</td>\n",
       "      <td>NaN</td>\n",
       "      <td>0.255299</td>\n",
       "      <td>0.001154</td>\n",
       "      <td>0.000027</td>\n",
       "    </tr>\n",
       "    <tr>\n",
       "      <th>kappa+step</th>\n",
       "      <td>NaN</td>\n",
       "      <td>NaN</td>\n",
       "      <td>NaN</td>\n",
       "      <td>NaN</td>\n",
       "      <td>0.000081</td>\n",
       "      <td>0.000002</td>\n",
       "    </tr>\n",
       "    <tr>\n",
       "      <th>theta</th>\n",
       "      <td>NaN</td>\n",
       "      <td>NaN</td>\n",
       "      <td>NaN</td>\n",
       "      <td>NaN</td>\n",
       "      <td>NaN</td>\n",
       "      <td>0.104570</td>\n",
       "    </tr>\n",
       "    <tr>\n",
       "      <th>theta+step</th>\n",
       "      <td>NaN</td>\n",
       "      <td>NaN</td>\n",
       "      <td>NaN</td>\n",
       "      <td>NaN</td>\n",
       "      <td>NaN</td>\n",
       "      <td>NaN</td>\n",
       "    </tr>\n",
       "  </tbody>\n",
       "</table>\n",
       "</div>"
      ],
      "text/plain": [
       "            bezier  cartesian     kappa  kappa+step     theta  theta+step\n",
       "subject                                                                  \n",
       "bezier         NaN   0.372662  0.000011    0.000002  0.001948    0.014023\n",
       "cartesian      NaN        NaN  0.005934    0.003378  0.114205    0.199945\n",
       "kappa          NaN        NaN       NaN    0.255299  0.001154    0.000027\n",
       "kappa+step     NaN        NaN       NaN         NaN  0.000081    0.000002\n",
       "theta          NaN        NaN       NaN         NaN       NaN    0.104570\n",
       "theta+step     NaN        NaN       NaN         NaN       NaN         NaN"
      ]
     },
     "execution_count": 19,
     "metadata": {},
     "output_type": "execute_result"
    }
   ],
   "source": [
    "test = u_test_by_representations(subject, representations)\n",
    "test"
   ]
  },
  {
   "cell_type": "code",
   "execution_count": 20,
   "metadata": {},
   "outputs": [
    {
     "name": "stdout",
     "output_type": "stream",
     "text": [
      "\\begin{tabular}{ccccccc}\n",
      "\\toprule\n",
      "{} &  bezier &  cartesian &   kappa &  kappa+step &   theta &  theta+step \\\\\n",
      "\\midrule\n",
      "bezier     &       - &       0.37 & 1.1e-05 &     1.9e-06 &  0.0019 &       0.014 \\\\\n",
      "cartesian  &       - &          - &  0.0059 &      0.0034 &    0.11 &         0.2 \\\\\n",
      "kappa      &       - &          - &       - &        0.26 &  0.0012 &     2.7e-05 \\\\\n",
      "kappa+step &       - &          - &       - &           - & 8.1e-05 &     1.9e-06 \\\\\n",
      "theta      &       - &          - &       - &           - &       - &         0.1 \\\\\n",
      "theta+step &       - &          - &       - &           - &       - &           - \\\\\n",
      "\\bottomrule\n",
      "\\end{tabular}\n",
      "\n"
     ]
    }
   ],
   "source": [
    "pretty_latex(test)"
   ]
  },
  {
   "cell_type": "code",
   "execution_count": 21,
   "metadata": {},
   "outputs": [
    {
     "data": {
      "text/html": [
       "<div>\n",
       "<style scoped>\n",
       "    .dataframe tbody tr th:only-of-type {\n",
       "        vertical-align: middle;\n",
       "    }\n",
       "\n",
       "    .dataframe tbody tr th {\n",
       "        vertical-align: top;\n",
       "    }\n",
       "\n",
       "    .dataframe thead th {\n",
       "        text-align: right;\n",
       "    }\n",
       "</style>\n",
       "<table border=\"1\" class=\"dataframe\">\n",
       "  <thead>\n",
       "    <tr style=\"text-align: right;\">\n",
       "      <th></th>\n",
       "      <th>bezier</th>\n",
       "      <th>cartesian</th>\n",
       "      <th>kappa</th>\n",
       "      <th>kappa+step</th>\n",
       "      <th>theta</th>\n",
       "      <th>theta+step</th>\n",
       "    </tr>\n",
       "    <tr>\n",
       "      <th>subject</th>\n",
       "      <th></th>\n",
       "      <th></th>\n",
       "      <th></th>\n",
       "      <th></th>\n",
       "      <th></th>\n",
       "      <th></th>\n",
       "    </tr>\n",
       "  </thead>\n",
       "  <tbody>\n",
       "    <tr>\n",
       "      <th>bezier</th>\n",
       "      <td>-</td>\n",
       "      <td>\\same</td>\n",
       "      <td>\\worse (0.152)</td>\n",
       "      <td>\\worse (0.121)</td>\n",
       "      <td>\\worse (0.255)</td>\n",
       "      <td>\\worse (0.318)</td>\n",
       "    </tr>\n",
       "    <tr>\n",
       "      <th>cartesian</th>\n",
       "      <td>\\same</td>\n",
       "      <td>-</td>\n",
       "      <td>\\worse (0.267)</td>\n",
       "      <td>\\worse (0.249)</td>\n",
       "      <td>\\same</td>\n",
       "      <td>\\same</td>\n",
       "    </tr>\n",
       "    <tr>\n",
       "      <th>kappa</th>\n",
       "      <td>\\better (0.848)</td>\n",
       "      <td>\\better (0.733)</td>\n",
       "      <td>-</td>\n",
       "      <td>\\same</td>\n",
       "      <td>\\better (0.738)</td>\n",
       "      <td>\\better (0.807)</td>\n",
       "    </tr>\n",
       "    <tr>\n",
       "      <th>kappa+step</th>\n",
       "      <td>\\better (0.879)</td>\n",
       "      <td>\\better (0.751)</td>\n",
       "      <td>\\same</td>\n",
       "      <td>-</td>\n",
       "      <td>\\better (0.795)</td>\n",
       "      <td>\\better (0.851)</td>\n",
       "    </tr>\n",
       "    <tr>\n",
       "      <th>theta</th>\n",
       "      <td>\\better (0.745)</td>\n",
       "      <td>\\same</td>\n",
       "      <td>\\worse (0.262)</td>\n",
       "      <td>\\worse (0.205)</td>\n",
       "      <td>-</td>\n",
       "      <td>\\same</td>\n",
       "    </tr>\n",
       "    <tr>\n",
       "      <th>theta+step</th>\n",
       "      <td>\\better (0.682)</td>\n",
       "      <td>\\same</td>\n",
       "      <td>\\worse (0.193)</td>\n",
       "      <td>\\worse (0.149)</td>\n",
       "      <td>\\same</td>\n",
       "      <td>-</td>\n",
       "    </tr>\n",
       "  </tbody>\n",
       "</table>\n",
       "</div>"
      ],
      "text/plain": [
       "                     bezier        cartesian           kappa      kappa+step  \\\n",
       "subject                                                                        \n",
       "bezier                    -            \\same  \\worse (0.152)  \\worse (0.121)   \n",
       "cartesian             \\same                -  \\worse (0.267)  \\worse (0.249)   \n",
       "kappa       \\better (0.848)  \\better (0.733)               -           \\same   \n",
       "kappa+step  \\better (0.879)  \\better (0.751)           \\same               -   \n",
       "theta       \\better (0.745)            \\same  \\worse (0.262)  \\worse (0.205)   \n",
       "theta+step  \\better (0.682)            \\same  \\worse (0.193)  \\worse (0.149)   \n",
       "\n",
       "                      theta       theta+step  \n",
       "subject                                       \n",
       "bezier       \\worse (0.255)   \\worse (0.318)  \n",
       "cartesian             \\same            \\same  \n",
       "kappa       \\better (0.738)  \\better (0.807)  \n",
       "kappa+step  \\better (0.795)  \\better (0.851)  \n",
       "theta                     -            \\same  \n",
       "theta+step            \\same                -  "
      ]
     },
     "execution_count": 21,
     "metadata": {},
     "output_type": "execute_result"
    }
   ],
   "source": [
    "test = u_test_a12_by_representation(subject, representations)\n",
    "test"
   ]
  },
  {
   "cell_type": "code",
   "execution_count": 22,
   "metadata": {},
   "outputs": [
    {
     "name": "stdout",
     "output_type": "stream",
     "text": [
      "\\begin{tabular}{ccccccc}\n",
      "\\toprule\n",
      "{} &           bezier &        cartesian &           kappa &      kappa+step &            theta &       theta+step \\\\\n",
      "\\midrule\n",
      "bezier     &                - &            \\same &  \\worse (0.152) &  \\worse (0.121) &   \\worse (0.255) &   \\worse (0.318) \\\\\n",
      "cartesian  &            \\same &                - &  \\worse (0.267) &  \\worse (0.249) &            \\same &            \\same \\\\\n",
      "kappa      &  \\better (0.848) &  \\better (0.733) &               - &           \\same &  \\better (0.738) &  \\better (0.807) \\\\\n",
      "kappa+step &  \\better (0.879) &  \\better (0.751) &           \\same &               - &  \\better (0.795) &  \\better (0.851) \\\\\n",
      "theta      &  \\better (0.745) &            \\same &  \\worse (0.262) &  \\worse (0.205) &                - &            \\same \\\\\n",
      "theta+step &  \\better (0.682) &            \\same &  \\worse (0.193) &  \\worse (0.149) &            \\same &                - \\\\\n",
      "\\bottomrule\n",
      "\\end{tabular}\n",
      "\n"
     ]
    }
   ],
   "source": [
    "pretty_latex(test)"
   ]
  },
  {
   "cell_type": "code",
   "execution_count": null,
   "metadata": {},
   "outputs": [],
   "source": []
  }
 ],
 "metadata": {
  "kernelspec": {
   "display_name": "sbst",
   "language": "python",
   "name": "sbst"
  },
  "language_info": {
   "codemirror_mode": {
    "name": "ipython",
    "version": 3
   },
   "file_extension": ".py",
   "mimetype": "text/x-python",
   "name": "python",
   "nbconvert_exporter": "python",
   "pygments_lexer": "ipython3",
   "version": "3.7.9"
  }
 },
 "nbformat": 4,
 "nbformat_minor": 4
}
