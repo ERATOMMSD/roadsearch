{
 "cells": [
  {
   "cell_type": "code",
   "execution_count": 1,
   "metadata": {},
   "outputs": [],
   "source": [
    "import pandas as pd\n",
    "import numpy as np \n",
    "import seaborn as sns\n",
    "import matplotlib.pyplot as plt \n",
    "from src.data_utils import load_alteration_distances"
   ]
  },
  {
   "cell_type": "code",
   "execution_count": 2,
   "metadata": {},
   "outputs": [
    {
     "data": {
      "text/html": [
       "<div>\n",
       "<style scoped>\n",
       "    .dataframe tbody tr th:only-of-type {\n",
       "        vertical-align: middle;\n",
       "    }\n",
       "\n",
       "    .dataframe tbody tr th {\n",
       "        vertical-align: top;\n",
       "    }\n",
       "\n",
       "    .dataframe thead th {\n",
       "        text-align: right;\n",
       "    }\n",
       "</style>\n",
       "<table border=\"1\" class=\"dataframe\">\n",
       "  <thead>\n",
       "    <tr style=\"text-align: right;\">\n",
       "      <th></th>\n",
       "      <th>id</th>\n",
       "      <th>pos</th>\n",
       "      <th>alteration</th>\n",
       "      <th>frechet</th>\n",
       "      <th>procrustes_frechet</th>\n",
       "      <th>frechet_norm</th>\n",
       "      <th>procrustes_frechet_norm</th>\n",
       "      <th>relative_angle_distance</th>\n",
       "      <th>normalized_relative_angle_distance</th>\n",
       "      <th>representation</th>\n",
       "      <th>value</th>\n",
       "      <th>type</th>\n",
       "      <th>pos_percentage</th>\n",
       "      <th>bucket_5</th>\n",
       "      <th>bucket_10</th>\n",
       "      <th>representationTex</th>\n",
       "    </tr>\n",
       "  </thead>\n",
       "  <tbody>\n",
       "    <tr>\n",
       "      <th>30</th>\n",
       "      <td>0</td>\n",
       "      <td>2</td>\n",
       "      <td>[1.1, 1.0]</td>\n",
       "      <td>0.243329</td>\n",
       "      <td>0.227296</td>\n",
       "      <td>0.001395</td>\n",
       "      <td>0.001303</td>\n",
       "      <td>0.522171</td>\n",
       "      <td>0.002995</td>\n",
       "      <td>bezier</td>\n",
       "      <td>10</td>\n",
       "      <td>first</td>\n",
       "      <td>0.074074</td>\n",
       "      <td>(-0.001, 0.185]</td>\n",
       "      <td>(-0.001, 0.0741]</td>\n",
       "      <td>$Cartesian_{\\mathit{Bez}}$</td>\n",
       "    </tr>\n",
       "    <tr>\n",
       "      <th>31</th>\n",
       "      <td>0</td>\n",
       "      <td>2</td>\n",
       "      <td>[1.0, 1.1]</td>\n",
       "      <td>0.577964</td>\n",
       "      <td>0.626994</td>\n",
       "      <td>0.003304</td>\n",
       "      <td>0.003585</td>\n",
       "      <td>1.596102</td>\n",
       "      <td>0.009155</td>\n",
       "      <td>bezier</td>\n",
       "      <td>10</td>\n",
       "      <td>second</td>\n",
       "      <td>0.074074</td>\n",
       "      <td>(-0.001, 0.185]</td>\n",
       "      <td>(-0.001, 0.0741]</td>\n",
       "      <td>$Cartesian_{\\mathit{Bez}}$</td>\n",
       "    </tr>\n",
       "    <tr>\n",
       "      <th>33</th>\n",
       "      <td>0</td>\n",
       "      <td>2</td>\n",
       "      <td>[1.2, 1.0]</td>\n",
       "      <td>0.486788</td>\n",
       "      <td>0.454878</td>\n",
       "      <td>0.002788</td>\n",
       "      <td>0.002605</td>\n",
       "      <td>1.030766</td>\n",
       "      <td>0.005912</td>\n",
       "      <td>bezier</td>\n",
       "      <td>20</td>\n",
       "      <td>first</td>\n",
       "      <td>0.074074</td>\n",
       "      <td>(-0.001, 0.185]</td>\n",
       "      <td>(-0.001, 0.0741]</td>\n",
       "      <td>$Cartesian_{\\mathit{Bez}}$</td>\n",
       "    </tr>\n",
       "    <tr>\n",
       "      <th>34</th>\n",
       "      <td>0</td>\n",
       "      <td>2</td>\n",
       "      <td>[1.0, 1.2]</td>\n",
       "      <td>1.147757</td>\n",
       "      <td>1.253470</td>\n",
       "      <td>0.006540</td>\n",
       "      <td>0.007143</td>\n",
       "      <td>3.195422</td>\n",
       "      <td>0.018328</td>\n",
       "      <td>bezier</td>\n",
       "      <td>20</td>\n",
       "      <td>second</td>\n",
       "      <td>0.074074</td>\n",
       "      <td>(-0.001, 0.185]</td>\n",
       "      <td>(-0.001, 0.0741]</td>\n",
       "      <td>$Cartesian_{\\mathit{Bez}}$</td>\n",
       "    </tr>\n",
       "    <tr>\n",
       "      <th>36</th>\n",
       "      <td>0</td>\n",
       "      <td>2</td>\n",
       "      <td>[1.3, 1.0]</td>\n",
       "      <td>0.646059</td>\n",
       "      <td>0.619693</td>\n",
       "      <td>0.003698</td>\n",
       "      <td>0.003547</td>\n",
       "      <td>1.537909</td>\n",
       "      <td>0.008821</td>\n",
       "      <td>bezier</td>\n",
       "      <td>30</td>\n",
       "      <td>first</td>\n",
       "      <td>0.074074</td>\n",
       "      <td>(-0.001, 0.185]</td>\n",
       "      <td>(-0.001, 0.0741]</td>\n",
       "      <td>$Cartesian_{\\mathit{Bez}}$</td>\n",
       "    </tr>\n",
       "  </tbody>\n",
       "</table>\n",
       "</div>"
      ],
      "text/plain": [
       "    id  pos  alteration   frechet  procrustes_frechet  frechet_norm  \\\n",
       "30   0    2  [1.1, 1.0]  0.243329            0.227296      0.001395   \n",
       "31   0    2  [1.0, 1.1]  0.577964            0.626994      0.003304   \n",
       "33   0    2  [1.2, 1.0]  0.486788            0.454878      0.002788   \n",
       "34   0    2  [1.0, 1.2]  1.147757            1.253470      0.006540   \n",
       "36   0    2  [1.3, 1.0]  0.646059            0.619693      0.003698   \n",
       "\n",
       "    procrustes_frechet_norm  relative_angle_distance  \\\n",
       "30                 0.001303                 0.522171   \n",
       "31                 0.003585                 1.596102   \n",
       "33                 0.002605                 1.030766   \n",
       "34                 0.007143                 3.195422   \n",
       "36                 0.003547                 1.537909   \n",
       "\n",
       "    normalized_relative_angle_distance representation  value    type  \\\n",
       "30                            0.002995         bezier     10   first   \n",
       "31                            0.009155         bezier     10  second   \n",
       "33                            0.005912         bezier     20   first   \n",
       "34                            0.018328         bezier     20  second   \n",
       "36                            0.008821         bezier     30   first   \n",
       "\n",
       "    pos_percentage         bucket_5         bucket_10  \\\n",
       "30        0.074074  (-0.001, 0.185]  (-0.001, 0.0741]   \n",
       "31        0.074074  (-0.001, 0.185]  (-0.001, 0.0741]   \n",
       "33        0.074074  (-0.001, 0.185]  (-0.001, 0.0741]   \n",
       "34        0.074074  (-0.001, 0.185]  (-0.001, 0.0741]   \n",
       "36        0.074074  (-0.001, 0.185]  (-0.001, 0.0741]   \n",
       "\n",
       "             representationTex  \n",
       "30  $Cartesian_{\\mathit{Bez}}$  \n",
       "31  $Cartesian_{\\mathit{Bez}}$  \n",
       "33  $Cartesian_{\\mathit{Bez}}$  \n",
       "34  $Cartesian_{\\mathit{Bez}}$  \n",
       "36  $Cartesian_{\\mathit{Bez}}$  "
      ]
     },
     "execution_count": 2,
     "metadata": {},
     "output_type": "execute_result"
    }
   ],
   "source": [
    "distances = load_alteration_distances()\n",
    "distances.head()"
   ]
  },
  {
   "cell_type": "code",
   "execution_count": 4,
   "metadata": {},
   "outputs": [],
   "source": [
    "from src.plots import plot_positions"
   ]
  },
  {
   "cell_type": "code",
   "execution_count": 5,
   "metadata": {},
   "outputs": [
    {
     "data": {
      "image/png": "[encoded data removed]",
      "text/plain": [
       "<Figure size 864x540 with 6 Axes>"
      ]
     },
     "metadata": {
      "needs_background": "light"
     },
     "output_type": "display_data"
    }
   ],
   "source": [
    "fig = plot_positions(distances)\n",
    "fig.savefig('./figures/positions.pdf')"
   ]
  },
  {
   "cell_type": "code",
   "execution_count": 8,
   "metadata": {},
   "outputs": [],
   "source": [
    "from src.plots import plot_alterations_by_value"
   ]
  },
  {
   "cell_type": "code",
   "execution_count": 9,
   "metadata": {},
   "outputs": [
    {
     "data": {
      "image/png": "[encoded data removed]",
      "text/plain": [
       "<Figure size 540x216 with 1 Axes>"
      ]
     },
     "metadata": {
      "needs_background": "light"
     },
     "output_type": "display_data"
    }
   ],
   "source": [
    "fig = plot_alterations_by_value(distances)\n",
    "fig.savefig('./figures/alterations.pdf')"
   ]
  },
  {
   "cell_type": "markdown",
   "metadata": {},
   "source": [
    "## Statistical Test"
   ]
  },
  {
   "cell_type": "code",
   "execution_count": 10,
   "metadata": {},
   "outputs": [],
   "source": [
    "# My pandas brain stopped working... let's just do this.\n",
    "# We want to see a comparison between representations within their value \n",
    "# We want to see a comparison between positions within a represenation\n",
    "data_10 = distances[distances.value == 10] \n",
    "subject = {}\n",
    "for rep in data_10.representation.unique():\n",
    "    #ids = data_10[data_10.representation==rep].id.sample(100)\n",
    "    #subject[rep] = data_10[(data_10.representation==rep) & (data_10.id.isin(ids))]['procrustes_frechet_norm']\n",
    "    subject[rep] = data_10[(data_10.representation==rep)]['procrustes_frechet_norm']"
   ]
  },
  {
   "cell_type": "markdown",
   "metadata": {},
   "source": [
    "### Shapiro"
   ]
  },
  {
   "cell_type": "code",
   "execution_count": 11,
   "metadata": {},
   "outputs": [
    {
     "name": "stdout",
     "output_type": "stream",
     "text": [
      "bezier: 0.0 \n",
      "cartesian: 0.0 \n",
      "kappa: 0.0 \n",
      "kappa+step: 0.0 \n",
      "theta: 0.0 \n",
      "theta+step: 0.0 \n"
     ]
    },
    {
     "name": "stderr",
     "output_type": "stream",
     "text": [
      "/Users/ezecastellano/PycharmProjects/sbst-tool-competition-av/venv3.7/lib/python3.7/site-packages/scipy/stats/morestats.py:1681: UserWarning: p-value may not be accurate for N > 5000.\n",
      "  warnings.warn(\"p-value may not be accurate for N > 5000.\")\n"
     ]
    }
   ],
   "source": [
    "from scipy.stats import shapiro\n",
    "# null hypothesis: is it equal to normal distribution\n",
    "# alternative: is not... \n",
    "\n",
    "ci = 0.05 # less than ci --> reject null hypothesis \n",
    "\n",
    "for rep in distances.representation.unique():\n",
    "    shapiro_rep = shapiro(subject[rep])\n",
    "    label = '' if shapiro_rep.pvalue < ci else '(Normal)'\n",
    "    print(f'{rep}: {shapiro_rep.pvalue} {label}')"
   ]
  },
  {
   "cell_type": "markdown",
   "metadata": {},
   "source": [
    "### U-Test with A12"
   ]
  },
  {
   "cell_type": "code",
   "execution_count": 13,
   "metadata": {},
   "outputs": [],
   "source": [
    "from src.stats_tests import u_test_by_representations, u_test_a12_by_representation, pretty_latex"
   ]
  },
  {
   "cell_type": "code",
   "execution_count": 14,
   "metadata": {},
   "outputs": [
    {
     "data": {
      "text/html": [
       "<div>\n",
       "<style scoped>\n",
       "    .dataframe tbody tr th:only-of-type {\n",
       "        vertical-align: middle;\n",
       "    }\n",
       "\n",
       "    .dataframe tbody tr th {\n",
       "        vertical-align: top;\n",
       "    }\n",
       "\n",
       "    .dataframe thead th {\n",
       "        text-align: right;\n",
       "    }\n",
       "</style>\n",
       "<table border=\"1\" class=\"dataframe\">\n",
       "  <thead>\n",
       "    <tr style=\"text-align: right;\">\n",
       "      <th></th>\n",
       "      <th>bezier</th>\n",
       "      <th>cartesian</th>\n",
       "      <th>kappa</th>\n",
       "      <th>kappa+step</th>\n",
       "      <th>theta</th>\n",
       "      <th>theta+step</th>\n",
       "    </tr>\n",
       "    <tr>\n",
       "      <th>subject</th>\n",
       "      <th></th>\n",
       "      <th></th>\n",
       "      <th></th>\n",
       "      <th></th>\n",
       "      <th></th>\n",
       "      <th></th>\n",
       "    </tr>\n",
       "  </thead>\n",
       "  <tbody>\n",
       "    <tr>\n",
       "      <th>bezier</th>\n",
       "      <td>NaN</td>\n",
       "      <td>0.0</td>\n",
       "      <td>0.0</td>\n",
       "      <td>0.000000e+00</td>\n",
       "      <td>0.0</td>\n",
       "      <td>0.000000e+00</td>\n",
       "    </tr>\n",
       "    <tr>\n",
       "      <th>cartesian</th>\n",
       "      <td>NaN</td>\n",
       "      <td>NaN</td>\n",
       "      <td>0.0</td>\n",
       "      <td>0.000000e+00</td>\n",
       "      <td>0.0</td>\n",
       "      <td>0.000000e+00</td>\n",
       "    </tr>\n",
       "    <tr>\n",
       "      <th>kappa</th>\n",
       "      <td>NaN</td>\n",
       "      <td>NaN</td>\n",
       "      <td>NaN</td>\n",
       "      <td>1.089117e-61</td>\n",
       "      <td>0.0</td>\n",
       "      <td>2.656232e-203</td>\n",
       "    </tr>\n",
       "    <tr>\n",
       "      <th>kappa+step</th>\n",
       "      <td>NaN</td>\n",
       "      <td>NaN</td>\n",
       "      <td>NaN</td>\n",
       "      <td>NaN</td>\n",
       "      <td>0.0</td>\n",
       "      <td>1.659811e-68</td>\n",
       "    </tr>\n",
       "    <tr>\n",
       "      <th>theta</th>\n",
       "      <td>NaN</td>\n",
       "      <td>NaN</td>\n",
       "      <td>NaN</td>\n",
       "      <td>NaN</td>\n",
       "      <td>NaN</td>\n",
       "      <td>0.000000e+00</td>\n",
       "    </tr>\n",
       "    <tr>\n",
       "      <th>theta+step</th>\n",
       "      <td>NaN</td>\n",
       "      <td>NaN</td>\n",
       "      <td>NaN</td>\n",
       "      <td>NaN</td>\n",
       "      <td>NaN</td>\n",
       "      <td>NaN</td>\n",
       "    </tr>\n",
       "  </tbody>\n",
       "</table>\n",
       "</div>"
      ],
      "text/plain": [
       "            bezier  cartesian  kappa    kappa+step  theta     theta+step\n",
       "subject                                                                 \n",
       "bezier         NaN        0.0    0.0  0.000000e+00    0.0   0.000000e+00\n",
       "cartesian      NaN        NaN    0.0  0.000000e+00    0.0   0.000000e+00\n",
       "kappa          NaN        NaN    NaN  1.089117e-61    0.0  2.656232e-203\n",
       "kappa+step     NaN        NaN    NaN           NaN    0.0   1.659811e-68\n",
       "theta          NaN        NaN    NaN           NaN    NaN   0.000000e+00\n",
       "theta+step     NaN        NaN    NaN           NaN    NaN            NaN"
      ]
     },
     "execution_count": 14,
     "metadata": {},
     "output_type": "execute_result"
    }
   ],
   "source": [
    "u_test = u_test_by_representations(subject, distances.representation.unique())\n",
    "u_test"
   ]
  },
  {
   "cell_type": "code",
   "execution_count": null,
   "metadata": {},
   "outputs": [],
   "source": [
    "ua12_test = u_test_a12_by_representation(subject, distances.representation.unique())\n",
    "ua12_test"
   ]
  },
  {
   "cell_type": "code",
   "execution_count": null,
   "metadata": {},
   "outputs": [],
   "source": [
    "pretty_latex(ua12_test)"
   ]
  },
  {
   "cell_type": "code",
   "execution_count": null,
   "metadata": {},
   "outputs": [],
   "source": []
  }
 ],
 "metadata": {
  "kernelspec": {
   "display_name": "sbst",
   "language": "python",
   "name": "sbst"
  },
  "language_info": {
   "codemirror_mode": {
    "name": "ipython",
    "version": 3
   },
   "file_extension": ".py",
   "mimetype": "text/x-python",
   "name": "python",
   "nbconvert_exporter": "python",
   "pygments_lexer": "ipython3",
   "version": "3.7.9"
  }
 },
 "nbformat": 4,
 "nbformat_minor": 4
}
