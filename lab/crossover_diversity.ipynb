{
 "cells": [
  {
   "cell_type": "code",
   "execution_count": 1,
   "metadata": {},
   "outputs": [],
   "source": [
    "import pandas as pd\n",
    "import numpy as np \n",
    "import seaborn as sns\n",
    "import matplotlib.pyplot as plt \n",
    "from src.data_utils import load_crossover"
   ]
  },
  {
   "cell_type": "code",
   "execution_count": 2,
   "metadata": {},
   "outputs": [
    {
     "data": {
      "text/html": [
       "<div>\n",
       "<style scoped>\n",
       "    .dataframe tbody tr th:only-of-type {\n",
       "        vertical-align: middle;\n",
       "    }\n",
       "\n",
       "    .dataframe tbody tr th {\n",
       "        vertical-align: top;\n",
       "    }\n",
       "\n",
       "    .dataframe thead th {\n",
       "        text-align: right;\n",
       "    }\n",
       "</style>\n",
       "<table border=\"1\" class=\"dataframe\">\n",
       "  <thead>\n",
       "    <tr style=\"text-align: right;\">\n",
       "      <th></th>\n",
       "      <th>representation</th>\n",
       "      <th>parent_id_1</th>\n",
       "      <th>parent_id_2</th>\n",
       "      <th>child_intent</th>\n",
       "      <th>frechet</th>\n",
       "      <th>procrustes_frechet</th>\n",
       "      <th>frechet_norm</th>\n",
       "      <th>procrustes_frechet_norm</th>\n",
       "    </tr>\n",
       "  </thead>\n",
       "  <tbody>\n",
       "    <tr>\n",
       "      <th>0</th>\n",
       "      <td>bezier</td>\n",
       "      <td>18627</td>\n",
       "      <td>58699</td>\n",
       "      <td>0</td>\n",
       "      <td>40.715064</td>\n",
       "      <td>41.764532</td>\n",
       "      <td>0.232071</td>\n",
       "      <td>0.238053</td>\n",
       "    </tr>\n",
       "    <tr>\n",
       "      <th>1</th>\n",
       "      <td>bezier</td>\n",
       "      <td>18627</td>\n",
       "      <td>58699</td>\n",
       "      <td>0</td>\n",
       "      <td>42.744127</td>\n",
       "      <td>42.812037</td>\n",
       "      <td>0.247887</td>\n",
       "      <td>0.248281</td>\n",
       "    </tr>\n",
       "    <tr>\n",
       "      <th>2</th>\n",
       "      <td>bezier</td>\n",
       "      <td>18627</td>\n",
       "      <td>58699</td>\n",
       "      <td>0</td>\n",
       "      <td>60.049768</td>\n",
       "      <td>60.362316</td>\n",
       "      <td>0.342276</td>\n",
       "      <td>0.344058</td>\n",
       "    </tr>\n",
       "    <tr>\n",
       "      <th>3</th>\n",
       "      <td>bezier</td>\n",
       "      <td>18627</td>\n",
       "      <td>58699</td>\n",
       "      <td>0</td>\n",
       "      <td>62.078831</td>\n",
       "      <td>62.272591</td>\n",
       "      <td>0.360015</td>\n",
       "      <td>0.361139</td>\n",
       "    </tr>\n",
       "    <tr>\n",
       "      <th>4</th>\n",
       "      <td>bezier</td>\n",
       "      <td>18627</td>\n",
       "      <td>58699</td>\n",
       "      <td>1</td>\n",
       "      <td>44.469992</td>\n",
       "      <td>47.176743</td>\n",
       "      <td>0.253474</td>\n",
       "      <td>0.268902</td>\n",
       "    </tr>\n",
       "    <tr>\n",
       "      <th>...</th>\n",
       "      <td>...</td>\n",
       "      <td>...</td>\n",
       "      <td>...</td>\n",
       "      <td>...</td>\n",
       "      <td>...</td>\n",
       "      <td>...</td>\n",
       "      <td>...</td>\n",
       "      <td>...</td>\n",
       "    </tr>\n",
       "    <tr>\n",
       "      <th>593995</th>\n",
       "      <td>theta+step</td>\n",
       "      <td>9787</td>\n",
       "      <td>17566</td>\n",
       "      <td>3</td>\n",
       "      <td>59.882233</td>\n",
       "      <td>71.956347</td>\n",
       "      <td>0.326817</td>\n",
       "      <td>0.392714</td>\n",
       "    </tr>\n",
       "    <tr>\n",
       "      <th>593996</th>\n",
       "      <td>theta+step</td>\n",
       "      <td>9787</td>\n",
       "      <td>17566</td>\n",
       "      <td>4</td>\n",
       "      <td>73.888356</td>\n",
       "      <td>80.353442</td>\n",
       "      <td>0.425485</td>\n",
       "      <td>0.462714</td>\n",
       "    </tr>\n",
       "    <tr>\n",
       "      <th>593997</th>\n",
       "      <td>theta+step</td>\n",
       "      <td>9787</td>\n",
       "      <td>17566</td>\n",
       "      <td>4</td>\n",
       "      <td>44.383345</td>\n",
       "      <td>59.308472</td>\n",
       "      <td>0.242229</td>\n",
       "      <td>0.323686</td>\n",
       "    </tr>\n",
       "    <tr>\n",
       "      <th>593998</th>\n",
       "      <td>theta+step</td>\n",
       "      <td>9787</td>\n",
       "      <td>17566</td>\n",
       "      <td>4</td>\n",
       "      <td>70.037588</td>\n",
       "      <td>79.122804</td>\n",
       "      <td>0.392896</td>\n",
       "      <td>0.443863</td>\n",
       "    </tr>\n",
       "    <tr>\n",
       "      <th>593999</th>\n",
       "      <td>theta+step</td>\n",
       "      <td>9787</td>\n",
       "      <td>17566</td>\n",
       "      <td>4</td>\n",
       "      <td>51.129941</td>\n",
       "      <td>64.333473</td>\n",
       "      <td>0.279050</td>\n",
       "      <td>0.351111</td>\n",
       "    </tr>\n",
       "  </tbody>\n",
       "</table>\n",
       "<p>594000 rows × 8 columns</p>\n",
       "</div>"
      ],
      "text/plain": [
       "       representation  parent_id_1  parent_id_2  child_intent    frechet  \\\n",
       "0              bezier        18627        58699             0  40.715064   \n",
       "1              bezier        18627        58699             0  42.744127   \n",
       "2              bezier        18627        58699             0  60.049768   \n",
       "3              bezier        18627        58699             0  62.078831   \n",
       "4              bezier        18627        58699             1  44.469992   \n",
       "...               ...          ...          ...           ...        ...   \n",
       "593995     theta+step         9787        17566             3  59.882233   \n",
       "593996     theta+step         9787        17566             4  73.888356   \n",
       "593997     theta+step         9787        17566             4  44.383345   \n",
       "593998     theta+step         9787        17566             4  70.037588   \n",
       "593999     theta+step         9787        17566             4  51.129941   \n",
       "\n",
       "        procrustes_frechet  frechet_norm  procrustes_frechet_norm  \n",
       "0                41.764532      0.232071                 0.238053  \n",
       "1                42.812037      0.247887                 0.248281  \n",
       "2                60.362316      0.342276                 0.344058  \n",
       "3                62.272591      0.360015                 0.361139  \n",
       "4                47.176743      0.253474                 0.268902  \n",
       "...                    ...           ...                      ...  \n",
       "593995           71.956347      0.326817                 0.392714  \n",
       "593996           80.353442      0.425485                 0.462714  \n",
       "593997           59.308472      0.242229                 0.323686  \n",
       "593998           79.122804      0.392896                 0.443863  \n",
       "593999           64.333473      0.279050                 0.351111  \n",
       "\n",
       "[594000 rows x 8 columns]"
      ]
     },
     "execution_count": 2,
     "metadata": {},
     "output_type": "execute_result"
    }
   ],
   "source": [
    "distances = load_crossover()\n",
    "distances"
   ]
  },
  {
   "cell_type": "code",
   "execution_count": 3,
   "metadata": {},
   "outputs": [],
   "source": [
    "from src.plots import plot_distances"
   ]
  },
  {
   "cell_type": "code",
   "execution_count": 4,
   "metadata": {},
   "outputs": [
    {
     "data": {
      "image/png": "[encoded data removed]",
      "text/plain": [
       "<Figure size 576x144 with 1 Axes>"
      ]
     },
     "metadata": {
      "needs_background": "light"
     },
     "output_type": "display_data"
    }
   ],
   "source": [
    "fig = plot_distances(distances)\n",
    "fig.savefig('./figures/crossover.pdf')"
   ]
  },
  {
   "cell_type": "markdown",
   "metadata": {},
   "source": [
    "## Statistical Test"
   ]
  },
  {
   "cell_type": "code",
   "execution_count": 5,
   "metadata": {},
   "outputs": [],
   "source": [
    "subject = {}\n",
    "for rep in distances.representation.unique():\n",
    "    subject[rep] = distances[distances.representation==rep]['procrustes_frechet_norm']"
   ]
  },
  {
   "cell_type": "markdown",
   "metadata": {},
   "source": [
    "### Shapiro"
   ]
  },
  {
   "cell_type": "code",
   "execution_count": 6,
   "metadata": {},
   "outputs": [
    {
     "name": "stdout",
     "output_type": "stream",
     "text": [
      "bezier: 0.0 \n",
      "cartesian: 0.0 \n",
      "kappa: 0.0 \n",
      "kappa+step: 0.0 \n",
      "theta: 0.0 \n",
      "theta+step: 0.0 \n"
     ]
    },
    {
     "name": "stderr",
     "output_type": "stream",
     "text": [
      "/Users/ezecastellano/PycharmProjects/sbst-tool-competition-av/venv3.7/lib/python3.7/site-packages/scipy/stats/morestats.py:1681: UserWarning: p-value may not be accurate for N > 5000.\n",
      "  warnings.warn(\"p-value may not be accurate for N > 5000.\")\n"
     ]
    }
   ],
   "source": [
    "from scipy.stats import shapiro\n",
    "# null hypothesis: is it equal to normal distribution\n",
    "# alternative: is not... \n",
    "\n",
    "ci = 0.05 # less than ci --> reject null hypothesis \n",
    "\n",
    "for rep in distances.representation.unique():\n",
    "    shapiro_rep = shapiro(subject[rep])\n",
    "    label = '' if shapiro_rep.pvalue < ci else '(Normal)'\n",
    "    print(f'{rep}: {shapiro_rep.pvalue} {label}')"
   ]
  },
  {
   "cell_type": "markdown",
   "metadata": {},
   "source": [
    "### U-Test with A12"
   ]
  },
  {
   "cell_type": "code",
   "execution_count": 7,
   "metadata": {},
   "outputs": [],
   "source": [
    "from src.stats_tests import u_test_by_representations, u_test_a12_by_representation, pretty_latex"
   ]
  },
  {
   "cell_type": "code",
   "execution_count": 8,
   "metadata": {},
   "outputs": [
    {
     "data": {
      "text/html": [
       "<div>\n",
       "<style scoped>\n",
       "    .dataframe tbody tr th:only-of-type {\n",
       "        vertical-align: middle;\n",
       "    }\n",
       "\n",
       "    .dataframe tbody tr th {\n",
       "        vertical-align: top;\n",
       "    }\n",
       "\n",
       "    .dataframe thead th {\n",
       "        text-align: right;\n",
       "    }\n",
       "</style>\n",
       "<table border=\"1\" class=\"dataframe\">\n",
       "  <thead>\n",
       "    <tr style=\"text-align: right;\">\n",
       "      <th></th>\n",
       "      <th>bezier</th>\n",
       "      <th>cartesian</th>\n",
       "      <th>kappa</th>\n",
       "      <th>kappa+step</th>\n",
       "      <th>theta</th>\n",
       "      <th>theta+step</th>\n",
       "    </tr>\n",
       "    <tr>\n",
       "      <th>subject</th>\n",
       "      <th></th>\n",
       "      <th></th>\n",
       "      <th></th>\n",
       "      <th></th>\n",
       "      <th></th>\n",
       "      <th></th>\n",
       "    </tr>\n",
       "  </thead>\n",
       "  <tbody>\n",
       "    <tr>\n",
       "      <th>bezier</th>\n",
       "      <td>NaN</td>\n",
       "      <td>0.0</td>\n",
       "      <td>0.0</td>\n",
       "      <td>0.000000e+00</td>\n",
       "      <td>0.000000</td>\n",
       "      <td>5.806993e-52</td>\n",
       "    </tr>\n",
       "    <tr>\n",
       "      <th>cartesian</th>\n",
       "      <td>NaN</td>\n",
       "      <td>NaN</td>\n",
       "      <td>0.0</td>\n",
       "      <td>0.000000e+00</td>\n",
       "      <td>0.000000</td>\n",
       "      <td>0.000000e+00</td>\n",
       "    </tr>\n",
       "    <tr>\n",
       "      <th>kappa</th>\n",
       "      <td>NaN</td>\n",
       "      <td>NaN</td>\n",
       "      <td>NaN</td>\n",
       "      <td>9.833007e-07</td>\n",
       "      <td>0.000833</td>\n",
       "      <td>0.000000e+00</td>\n",
       "    </tr>\n",
       "    <tr>\n",
       "      <th>kappa+step</th>\n",
       "      <td>NaN</td>\n",
       "      <td>NaN</td>\n",
       "      <td>NaN</td>\n",
       "      <td>NaN</td>\n",
       "      <td>0.029608</td>\n",
       "      <td>0.000000e+00</td>\n",
       "    </tr>\n",
       "    <tr>\n",
       "      <th>theta</th>\n",
       "      <td>NaN</td>\n",
       "      <td>NaN</td>\n",
       "      <td>NaN</td>\n",
       "      <td>NaN</td>\n",
       "      <td>NaN</td>\n",
       "      <td>0.000000e+00</td>\n",
       "    </tr>\n",
       "    <tr>\n",
       "      <th>theta+step</th>\n",
       "      <td>NaN</td>\n",
       "      <td>NaN</td>\n",
       "      <td>NaN</td>\n",
       "      <td>NaN</td>\n",
       "      <td>NaN</td>\n",
       "      <td>NaN</td>\n",
       "    </tr>\n",
       "  </tbody>\n",
       "</table>\n",
       "</div>"
      ],
      "text/plain": [
       "            bezier  cartesian  kappa    kappa+step     theta    theta+step\n",
       "subject                                                                   \n",
       "bezier         NaN        0.0    0.0  0.000000e+00  0.000000  5.806993e-52\n",
       "cartesian      NaN        NaN    0.0  0.000000e+00  0.000000  0.000000e+00\n",
       "kappa          NaN        NaN    NaN  9.833007e-07  0.000833  0.000000e+00\n",
       "kappa+step     NaN        NaN    NaN           NaN  0.029608  0.000000e+00\n",
       "theta          NaN        NaN    NaN           NaN       NaN  0.000000e+00\n",
       "theta+step     NaN        NaN    NaN           NaN       NaN           NaN"
      ]
     },
     "execution_count": 8,
     "metadata": {},
     "output_type": "execute_result"
    }
   ],
   "source": [
    "test = u_test_by_representations(subject, distances.representation.unique())\n",
    "test"
   ]
  },
  {
   "cell_type": "code",
   "execution_count": null,
   "metadata": {},
   "outputs": [],
   "source": [
    "test = u_test_a12_by_representation(subject, distances.representation.unique())\n",
    "test"
   ]
  },
  {
   "cell_type": "code",
   "execution_count": null,
   "metadata": {},
   "outputs": [],
   "source": []
  }
 ],
 "metadata": {
  "kernelspec": {
   "display_name": "sbst",
   "language": "python",
   "name": "sbst"
  },
  "language_info": {
   "codemirror_mode": {
    "name": "ipython",
    "version": 3
   },
   "file_extension": ".py",
   "mimetype": "text/x-python",
   "name": "python",
   "nbconvert_exporter": "python",
   "pygments_lexer": "ipython3",
   "version": "3.7.9"
  }
 },
 "nbformat": 4,
 "nbformat_minor": 4
}
